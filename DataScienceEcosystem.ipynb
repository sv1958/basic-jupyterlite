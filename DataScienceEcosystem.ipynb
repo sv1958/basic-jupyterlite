{
 "cells": [
  {
   "cell_type": "markdown",
   "id": "442081ff-5723-4b8a-980f-84272282f0e2",
   "metadata": {},
   "source": [
    "Data Science Tools and Ecosystem"
   ]
  },
  {
   "cell_type": "markdown",
   "id": "b097c784-805a-40d9-bc40-ede84f43115d",
   "metadata": {},
   "source": [
    "In this notebook, Data Science Tools and Ecosystem are summarized."
   ]
  },
  {
   "cell_type": "markdown",
   "id": "3478638e-83ad-42d7-90c3-83f629e6cc95",
   "metadata": {},
   "source": [
    "Some of the popular languages that Data Scientists use are:\n",
    "1. R\n",
    "2. SQL\n",
    "3. JAVA"
   ]
  },
  {
   "cell_type": "markdown",
   "id": "ab18c484-ed5f-456f-a996-b5fda434e4ef",
   "metadata": {},
   "source": [
    "Some of the commonly used libraries used by Data Scientists include:\n",
    "1.Pandas\n",
    "2.NumPy\n",
    "3.TensorFlow"
   ]
  },
  {
   "cell_type": "markdown",
   "id": "2cb6d0e2-ba78-4241-9228-42a5fa882ed3",
   "metadata": {},
   "source": [
    "Data Science Tools\n"
   ]
  },
  {
   "cell_type": "markdown",
   "id": "cb39884f-31ab-44a4-b39a-5462a560b41c",
   "metadata": {},
   "source": [
    "Below are a few examples of evaluating arithmetic expressions in Python"
   ]
  },
  {
   "cell_type": "code",
   "execution_count": 1,
   "id": "bd33ee58-2332-42db-a328-bcfc6e2a0123",
   "metadata": {
    "tags": []
   },
   "outputs": [
    {
     "data": {
      "text/plain": [
       "17"
      ]
     },
     "execution_count": 1,
     "metadata": {},
     "output_type": "execute_result"
    }
   ],
   "source": [
    "#This a simple arithmetic expression to mutiply then add integers\n",
    "(3*4)+5"
   ]
  },
  {
   "cell_type": "code",
   "execution_count": 2,
   "id": "82a221d8-9e96-408d-9f77-006cce06f933",
   "metadata": {
    "tags": []
   },
   "outputs": [
    {
     "data": {
      "text/plain": [
       "3.3333333333333335"
      ]
     },
     "execution_count": 2,
     "metadata": {},
     "output_type": "execute_result"
    }
   ],
   "source": [
    "# This will convert 200 minutes to hours by diving by 60\n",
    "200/60"
   ]
  },
  {
   "cell_type": "markdown",
   "id": "8d4a8617-81e4-43dc-a640-27afdcf63775",
   "metadata": {},
   "source": [
    "Lakshmi Holla\n",
    "\n",
    "Niveditha Pandith"
   ]
  },
  {
   "cell_type": "markdown",
   "id": "5719b122-78bb-4601-9a99-4f8c7cc21422",
   "metadata": {},
   "source": [
    "Sriram Vallepalli"
   ]
  }
 ],
 "metadata": {
  "kernelspec": {
   "display_name": "Python",
   "language": "python",
   "name": "conda-env-python-py"
  },
  "language_info": {
   "codemirror_mode": {
    "name": "ipython",
    "version": 3
   },
   "file_extension": ".py",
   "mimetype": "text/x-python",
   "name": "python",
   "nbconvert_exporter": "python",
   "pygments_lexer": "ipython3",
   "version": "3.7.12"
  }
 },
 "nbformat": 4,
 "nbformat_minor": 5
}
